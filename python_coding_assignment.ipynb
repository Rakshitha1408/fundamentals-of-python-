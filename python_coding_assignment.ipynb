{
 "cells": [
  {
   "cell_type": "markdown",
   "id": "92b4c873-e94f-4ec2-9526-f06f4e2916c8",
   "metadata": {},
   "source": [
    "## Fundamental of Python Programming"
   ]
  },
  {
   "cell_type": "markdown",
   "id": "c6fd74b3-75e5-4b37-a0d1-205e5a15f9b4",
   "metadata": {},
   "source": [
    "### section 1: python operator and control structures "
   ]
  },
  {
   "cell_type": "markdown",
   "id": "c0d261e1-d335-40f1-8284-69af6d30c96b",
   "metadata": {},
   "source": [
    "Question 1: Write a Python program to calculate the sum of all numbers in a list using a for loop.\r\n",
    "\r\n",
    " Sample Input: numbers = [, , , , 5]\r\n",
    " Sample Output: 15\r\n"
   ]
  },
  {
   "cell_type": "code",
   "execution_count": 1,
   "id": "9481203d-c0fe-42fc-9e95-2299d5545f89",
   "metadata": {},
   "outputs": [
    {
     "name": "stdout",
     "output_type": "stream",
     "text": [
      "The sum of all numbers in the list is: 15\n"
     ]
    }
   ],
   "source": [
    "# Sample Input\n",
    "numbers = [1, 2, 3, 4, 5]\n",
    "\n",
    "# Initialize the sum variable\n",
    "total = 0\n",
    "\n",
    "# Use a for loop to calculate the sum\n",
    "for num in numbers:\n",
    "    total += num\n",
    "print(\"The sum of all numbers in the list is:\", total)\n"
   ]
  },
  {
   "cell_type": "markdown",
   "id": "12d5e334-ddab-4d11-9c60-9da6c54425d6",
   "metadata": {},
   "source": [
    "Question 2: What is the output of the following code?\n",
    "\n",
    "Code:\n",
    "\n",
    "x = 5\n",
    "y = 2\n",
    "print(x ** y)\n",
    "          Sample Output: 25\n"
   ]
  },
  {
   "cell_type": "code",
   "execution_count": 5,
   "id": "f6814dcf-8ac2-49ad-ab9f-5764bc531923",
   "metadata": {},
   "outputs": [
    {
     "name": "stdout",
     "output_type": "stream",
     "text": [
      "25\n"
     ]
    }
   ],
   "source": [
    "x = 5\n",
    "y = 2\n",
    "print(x ** y) \n",
    "#5**2 #Multiply 5*5=25"
   ]
  },
  {
   "cell_type": "code",
   "execution_count": null,
   "id": "4c05962e-525a-490b-b37d-acbaaf60c733",
   "metadata": {},
   "outputs": [],
   "source": [
    "Question 3: Write a Python program to check if a number is a palindrome using a while loop.\n",
    "\n",
    "Sample Input: num = 12321\n",
    "Sample Output: True\n"
   ]
  },
  {
   "cell_type": "code",
   "execution_count": 21,
   "id": "ae0b2621-4e12-4271-abee-09206a02c299",
   "metadata": {},
   "outputs": [
    {
     "name": "stdout",
     "output_type": "stream",
     "text": [
      "true\n"
     ]
    }
   ],
   "source": [
    "# Initialize variables\n",
    "original_num = 12321  # Example number\n",
    "reversed_num = 0\n",
    "num = original_num\n",
    "\n",
    "# Reverse the number using a while loop\n",
    "while num > 0:\n",
    "    reversed_num = reversed_num * 10 + num % 10\n",
    "    num = num // 10  # Use integer division\n",
    "\n",
    "if original_num == reversed_num:\n",
    "    print(\"true\")\n",
    "else:\n",
    "    print(\"false\")\n"
   ]
  },
  {
   "cell_type": "code",
   "execution_count": null,
   "id": "19a92791-ff7d-4856-b3a3-dea72f42492a",
   "metadata": {},
   "outputs": [],
   "source": [
    "Question 4: What is the output of the following code?\n",
    "\n",
    "Code:\n",
    "\n",
    "fruits = ['apple', 'banana', 'cherry']\n",
    "print(fruits[-1])\n",
    "Sample Output: cherry\n"
   ]
  },
  {
   "cell_type": "code",
   "execution_count": 1,
   "id": "70cfed5c-9595-49c5-94d1-914dcdd8b573",
   "metadata": {
    "scrolled": true
   },
   "outputs": [
    {
     "name": "stdout",
     "output_type": "stream",
     "text": [
      "cherry\n"
     ]
    }
   ],
   "source": [
    "fruits=['apple', 'banana','cherry']\n",
    "print(fruits[-1])"
   ]
  },
  {
   "cell_type": "code",
   "execution_count": null,
   "id": "b09454e0-826f-42d6-a361-a14a5c150b33",
   "metadata": {},
   "outputs": [],
   "source": [
    "Question 5 : Write a Python program to calculate the average of all\n",
    "numbers in a list using a for loop.\n",
    "\n",
    "Sample Input: numbers = [1, 2, 3, 4, 5]\n",
    " Sample Output: 3.0"
   ]
  },
  {
   "cell_type": "code",
   "execution_count": 7,
   "id": "d67c8fe0-bf50-4de9-90a6-391eab98e963",
   "metadata": {},
   "outputs": [
    {
     "name": "stdout",
     "output_type": "stream",
     "text": [
      "The average of all numbers in the list is: 3.0\n"
     ]
    }
   ],
   "source": [
    "# Sample Input\n",
    "numbers = [1, 2, 3, 4, 5]\n",
    "total = 0\n",
    "count = len(numbers)\n",
    "\n",
    "# Use a for loop to calculate the sum of the numbers\n",
    "for num in numbers:\n",
    "    total += num\n",
    "\n",
    "# Calculate the average\n",
    "average = total / count if count > 0 else 0\n",
    "\n",
    "# Print the result\n",
    "print(\"The average of all numbers in the list is:\", average)\n"
   ]
  },
  {
   "cell_type": "markdown",
   "id": "d8cb9325-29c5-466a-a1b2-998b497b7180",
   "metadata": {},
   "source": [
    "### section 2: List and dictionaries"
   ]
  },
  {
   "cell_type": "code",
   "execution_count": null,
   "id": "ff5fe9b2-6fd9-49fc-a311-24eefcda76c4",
   "metadata": {},
   "outputs": [],
   "source": [
    "Question 6 : Write a Python program to create a dictionary with\n",
    "student names as keys and their grades as values.\n",
    "\n",
    " Sample Input: students = ['John', 'Alice', 'Bob'], grades = [90, 85, 95]\n",
    " Sample Output: {'John': 90, 'Alice': 85, 'Bob': 95}"
   ]
  },
  {
   "cell_type": "code",
   "execution_count": 6,
   "id": "057a6854-2b40-4ac1-af95-77e8e0ac9654",
   "metadata": {},
   "outputs": [
    {
     "name": "stdout",
     "output_type": "stream",
     "text": [
      "{'John': 90, 'Alice': 85, 'Bob': 95}\n"
     ]
    }
   ],
   "source": [
    "# Sample Input\n",
    "students = ['John', 'Alice', 'Bob']\n",
    "grades = [90, 85, 95]\n",
    "\n",
    "# Create the dictionary using a for loop\n",
    "student_grades = {}\n",
    "for i in range(len(students)):\n",
    "    student_grades[students[i]] = grades[i]\n",
    "\n",
    "# Print the resulting dictionary\n",
    "print(student_grades)\n"
   ]
  },
  {
   "cell_type": "code",
   "execution_count": null,
   "id": "b4baafc9-8f33-4a4b-a961-fcde491912cc",
   "metadata": {},
   "outputs": [],
   "source": [
    "Question 7: What is the output of the following code?\n",
    " \n",
    "Code:\n",
    "\n",
    " numbers = [1, 2, 3, 4, 5]\n",
    " print(numbers[1:3])\n",
    "Sample Output: [2, 3]\n",
    "#it excludes the 3rd number and print only 1 and 2 "
   ]
  },
  {
   "cell_type": "code",
   "execution_count": 7,
   "id": "83343f2b-ac90-4b3d-9fe8-d8ff9b632230",
   "metadata": {},
   "outputs": [
    {
     "name": "stdout",
     "output_type": "stream",
     "text": [
      "[2, 3]\n"
     ]
    }
   ],
   "source": [
    "numbers = [1, 2, 3, 4, 5]\n",
    "print(numbers[1:3])"
   ]
  },
  {
   "cell_type": "code",
   "execution_count": null,
   "id": "74da5168-d89c-4be3-bec7-ea6fb0398100",
   "metadata": {},
   "outputs": [],
   "source": [
    "Question 8: Write a Python program to sort a list of numbers in ascending \n",
    "order using the sorted() function.\n",
    "\n",
    " Sample Input: numbers = [4, 2, 9, 6, 5]\n",
    " Sample Output: [2, 4, 5, 6, 9]\n",
    "#sorted is the function used sort the numbers in one form\n"
   ]
  },
  {
   "cell_type": "code",
   "execution_count": 8,
   "id": "fb9cf751-4276-4e86-afce-00ea4f158a06",
   "metadata": {},
   "outputs": [
    {
     "name": "stdout",
     "output_type": "stream",
     "text": [
      "[2, 4, 5, 6, 9]\n"
     ]
    }
   ],
   "source": [
    "# Sample Input\n",
    "numbers = [4, 2, 9, 6, 5]\n",
    "\n",
    "# Sort the list in ascending order\n",
    "sorted_numbers = sorted(numbers)\n",
    "\n",
    "# Print the sorted list\n",
    "print(sorted_numbers)\n"
   ]
  },
  {
   "cell_type": "code",
   "execution_count": null,
   "id": "5dbc14ff-18aa-4290-bea5-d6cf3feb546c",
   "metadata": {},
   "outputs": [],
   "source": [
    "Question 9: What is the output of the following code?\n",
    "\n",
    "Code:\n",
    " fruits = {'apple': 5, 'banana': 10, 'cherry': 15}\n",
    " print(fruits.get('banana'))\n",
    " Sample Output: 10\n",
    "# get()method in Python dictionaries is used to retrieve the value "
   ]
  },
  {
   "cell_type": "code",
   "execution_count": 9,
   "id": "a5854ea2-ce51-4f0e-af2d-79f1c853f6a8",
   "metadata": {},
   "outputs": [
    {
     "name": "stdout",
     "output_type": "stream",
     "text": [
      "10\n"
     ]
    }
   ],
   "source": [
    "fruits = {'apple': 5, 'banana': 10, 'cherry': 15}\n",
    "print(fruits.get('banana'))"
   ]
  },
  {
   "cell_type": "code",
   "execution_count": null,
   "id": "7c331ffd-6999-4362-975b-f49246826ee9",
   "metadata": {},
   "outputs": [],
   "source": [
    "Question 10 : Write a Python program to create a list of squares of all\n",
    "numbers from 1 to 10 using a list comprehension.\n",
    "\n",
    " Sample Output: [1, 4, 9, 16, 25, 36, 49, 64, 81, 100]"
   ]
  },
  {
   "cell_type": "code",
   "execution_count": 2,
   "id": "d2356d4f-74c4-49a1-9706-c616e043bb26",
   "metadata": {
    "scrolled": true
   },
   "outputs": [
    {
     "name": "stdout",
     "output_type": "stream",
     "text": [
      "[1, 4, 9, 16, 25, 36, 49, 64, 81, 100]\n"
     ]
    }
   ],
   "source": [
    "# Create a list of squares using a list comprehension\n",
    "squares = [x**2 for x in range(1, 11)]\n",
    "\n",
    "# Print the list of squares\n",
    "print(squares)"
   ]
  },
  {
   "cell_type": "markdown",
   "id": "c3504c02-94d8-43d7-833f-da115eb7db19",
   "metadata": {},
   "source": [
    "### section 3: advance topics "
   ]
  },
  {
   "cell_type": "code",
   "execution_count": null,
   "id": "e0ee7b6e-41a2-4a78-a171-92b06912e82e",
   "metadata": {},
   "outputs": [],
   "source": [
    "Question: Write a Python program to calculate the factorial of a number\n",
    "using recursion.\n",
    "\n",
    "Sample Input: num = 5\n",
    "Sample Output: 120"
   ]
  },
  {
   "cell_type": "code",
   "execution_count": 3,
   "id": "4d4da1bb-01c5-4569-9230-5e05852e4701",
   "metadata": {},
   "outputs": [
    {
     "name": "stdout",
     "output_type": "stream",
     "text": [
      "120\n"
     ]
    }
   ],
   "source": [
    "#function to calculate factorial using recursion\n",
    "def factorial(num):\n",
    "    if num == 0 or num == 1:  # Base case\n",
    "        return 1\n",
    "    else:\n",
    "        return num * factorial(num - 1)  # Recursive case\n",
    "\n",
    "# Sample Input\n",
    "num = 5\n",
    "\n",
    "# Calculate and print the factorial\n",
    "print(factorial(num))"
   ]
  },
  {
   "cell_type": "code",
   "execution_count": null,
   "id": "115b22b8-68d2-4663-ba9b-4c2062515558",
   "metadata": {},
   "outputs": [],
   "source": [
    "Question 12 : What is the output of the following code?\n",
    "\n",
    "Code:\n",
    " numbers = [1, 2, 3, 4, 5]\n",
    " print(list(reversed(numbers)))\n",
    "Sample Output: [5, 4, 3, 2, 1]\n",
    "#reversed() function in Python returns an iterator that reverses"
   ]
  },
  {
   "cell_type": "code",
   "execution_count": 12,
   "id": "cadeddd2-293d-48a4-83fb-a5f7bdf86336",
   "metadata": {},
   "outputs": [
    {
     "name": "stdout",
     "output_type": "stream",
     "text": [
      "[5, 4, 3, 2, 1]\n"
     ]
    }
   ],
   "source": [
    "numbers = [1, 2, 3, 4, 5]\n",
    "print(list(reversed(numbers)))\n"
   ]
  },
  {
   "cell_type": "code",
   "execution_count": null,
   "id": "750dd9c8-fdbb-4f10-8306-8b8f1904c3f5",
   "metadata": {},
   "outputs": [],
   "source": [
    "Question 13 : Write a Python program to create a generator that yields the \n",
    "Fibonacci sequence up to the nth term.\n",
    "\n",
    "Sample Input: n = 10\n",
    "Sample Output: [0, 1, 1, 2, 3, 5, 8, 13, 21, 34]\n",
    "# the series form by adding previous two numbers \n"
   ]
  },
  {
   "cell_type": "code",
   "execution_count": 13,
   "id": "c6af39e3-72fd-469b-ac2b-ddb190b10815",
   "metadata": {},
   "outputs": [
    {
     "name": "stdout",
     "output_type": "stream",
     "text": [
      "[0, 1, 1, 2, 3, 5, 8, 13, 21, 34]\n"
     ]
    }
   ],
   "source": [
    "# Define a generator for the Fibonacci sequence\n",
    "def fibonacci_sequence(n):\n",
    "    a, b = 0, 1\n",
    "    for _ in range(n):\n",
    "        yield a\n",
    "        a, b = b, a + b\n",
    "\n",
    "# Sample Input\n",
    "n = 10\n",
    "\n",
    "# Generate and print the Fibonacci sequence\n",
    "fib_sequence = list(fibonacci_sequence(n))\n",
    "print(fib_sequence)"
   ]
  },
  {
   "cell_type": "code",
   "execution_count": null,
   "id": "c853933a-2097-4410-a052-83a8dd61711b",
   "metadata": {},
   "outputs": [],
   "source": [
    "Question 14 : What is the output of the following code?\n",
    "\n",
    "Code:\n",
    "  import math\n",
    "  print(math.pi)\n",
    "            Sample Output: 3.14159... #returns the p1 (pi=22/7) value\n"
   ]
  },
  {
   "cell_type": "code",
   "execution_count": 14,
   "id": "9e3e3efa-672e-46d0-98ac-3f6067cceaab",
   "metadata": {},
   "outputs": [
    {
     "name": "stdout",
     "output_type": "stream",
     "text": [
      "3.141592653589793\n"
     ]
    }
   ],
   "source": [
    "import math\n",
    "print(math.pi)"
   ]
  },
  {
   "cell_type": "code",
   "execution_count": null,
   "id": "fa444a42-9a96-4f02-ba92-62a570b3fa13",
   "metadata": {},
   "outputs": [],
   "source": [
    "Question 15 : Write a Python program to print the inverted star pyramid \n",
    "of height 5."
   ]
  },
  {
   "cell_type": "code",
   "execution_count": 15,
   "id": "ce70ca6b-8ef3-4dc6-a25d-beff0f849cb2",
   "metadata": {},
   "outputs": [
    {
     "name": "stdout",
     "output_type": "stream",
     "text": [
      "*****\n",
      "****\n",
      "***\n",
      "**\n",
      "*\n"
     ]
    }
   ],
   "source": [
    "# Define the height of the pyramid\n",
    "height = 5\n",
    "\n",
    "# Generate the inverted star pyramid\n",
    "for i in range(height, 0, -1):\n",
    "    print('*' * i)"
   ]
  }
 ],
 "metadata": {
  "kernelspec": {
   "display_name": "Python 3 (ipykernel)",
   "language": "python",
   "name": "python3"
  },
  "language_info": {
   "codemirror_mode": {
    "name": "ipython",
    "version": 3
   },
   "file_extension": ".py",
   "mimetype": "text/x-python",
   "name": "python",
   "nbconvert_exporter": "python",
   "pygments_lexer": "ipython3",
   "version": "3.11.7"
  }
 },
 "nbformat": 4,
 "nbformat_minor": 5
}
